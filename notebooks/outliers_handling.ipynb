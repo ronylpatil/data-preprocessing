{
 "cells": [
  {
   "cell_type": "code",
   "execution_count": 42,
   "metadata": {},
   "outputs": [],
   "source": [
    "import pathlib\n",
    "import pandas as pd"
   ]
  },
  {
   "cell_type": "code",
   "execution_count": 52,
   "metadata": {},
   "outputs": [
    {
     "data": {
      "text/html": [
       "<div>\n",
       "<style scoped>\n",
       "    .dataframe tbody tr th:only-of-type {\n",
       "        vertical-align: middle;\n",
       "    }\n",
       "\n",
       "    .dataframe tbody tr th {\n",
       "        vertical-align: top;\n",
       "    }\n",
       "\n",
       "    .dataframe thead th {\n",
       "        text-align: right;\n",
       "    }\n",
       "</style>\n",
       "<table border=\"1\" class=\"dataframe\">\n",
       "  <thead>\n",
       "    <tr style=\"text-align: right;\">\n",
       "      <th></th>\n",
       "      <th>x</th>\n",
       "      <th>y</th>\n",
       "      <th>class</th>\n",
       "    </tr>\n",
       "  </thead>\n",
       "  <tbody>\n",
       "    <tr>\n",
       "      <th>0</th>\n",
       "      <td>2.487</td>\n",
       "      <td>2.762</td>\n",
       "      <td>1</td>\n",
       "    </tr>\n",
       "    <tr>\n",
       "      <th>1</th>\n",
       "      <td>2.970</td>\n",
       "      <td>1.991</td>\n",
       "      <td>1</td>\n",
       "    </tr>\n",
       "    <tr>\n",
       "      <th>2</th>\n",
       "      <td>3.589</td>\n",
       "      <td>2.624</td>\n",
       "      <td>1</td>\n",
       "    </tr>\n",
       "    <tr>\n",
       "      <th>3</th>\n",
       "      <td>4.140</td>\n",
       "      <td>2.679</td>\n",
       "      <td>1</td>\n",
       "    </tr>\n",
       "    <tr>\n",
       "      <th>4</th>\n",
       "      <td>3.105</td>\n",
       "      <td>2.789</td>\n",
       "      <td>1</td>\n",
       "    </tr>\n",
       "    <tr>\n",
       "      <th>...</th>\n",
       "      <td>...</td>\n",
       "      <td>...</td>\n",
       "      <td>...</td>\n",
       "    </tr>\n",
       "    <tr>\n",
       "      <th>244</th>\n",
       "      <td>5.000</td>\n",
       "      <td>15.652</td>\n",
       "      <td>1</td>\n",
       "    </tr>\n",
       "    <tr>\n",
       "      <th>245</th>\n",
       "      <td>3.804</td>\n",
       "      <td>14.193</td>\n",
       "      <td>1</td>\n",
       "    </tr>\n",
       "    <tr>\n",
       "      <th>246</th>\n",
       "      <td>2.970</td>\n",
       "      <td>16.066</td>\n",
       "      <td>1</td>\n",
       "    </tr>\n",
       "    <tr>\n",
       "      <th>247</th>\n",
       "      <td>4.677</td>\n",
       "      <td>16.203</td>\n",
       "      <td>1</td>\n",
       "    </tr>\n",
       "    <tr>\n",
       "      <th>248</th>\n",
       "      <td>2.097</td>\n",
       "      <td>13.835</td>\n",
       "      <td>1</td>\n",
       "    </tr>\n",
       "  </tbody>\n",
       "</table>\n",
       "<p>249 rows × 3 columns</p>\n",
       "</div>"
      ],
      "text/plain": [
       "         x       y  class\n",
       "0    2.487   2.762      1\n",
       "1    2.970   1.991      1\n",
       "2    3.589   2.624      1\n",
       "3    4.140   2.679      1\n",
       "4    3.105   2.789      1\n",
       "..     ...     ...    ...\n",
       "244  5.000  15.652      1\n",
       "245  3.804  14.193      1\n",
       "246  2.970  16.066      1\n",
       "247  4.677  16.203      1\n",
       "248  2.097  13.835      1\n",
       "\n",
       "[249 rows x 3 columns]"
      ]
     },
     "execution_count": 52,
     "metadata": {},
     "output_type": "execute_result"
    }
   ],
   "source": [
    "df = pd.read_csv(pathlib.Path().resolve().parent.as_posix() + '/data/raw/sample.csv')\n",
    "df"
   ]
  },
  {
   "cell_type": "code",
   "execution_count": 53,
   "metadata": {},
   "outputs": [
    {
     "data": {
      "text/html": [
       "<div>\n",
       "<style scoped>\n",
       "    .dataframe tbody tr th:only-of-type {\n",
       "        vertical-align: middle;\n",
       "    }\n",
       "\n",
       "    .dataframe tbody tr th {\n",
       "        vertical-align: top;\n",
       "    }\n",
       "\n",
       "    .dataframe thead th {\n",
       "        text-align: right;\n",
       "    }\n",
       "</style>\n",
       "<table border=\"1\" class=\"dataframe\">\n",
       "  <thead>\n",
       "    <tr style=\"text-align: right;\">\n",
       "      <th></th>\n",
       "      <th>x</th>\n",
       "      <th>y</th>\n",
       "      <th>class</th>\n",
       "    </tr>\n",
       "  </thead>\n",
       "  <tbody>\n",
       "    <tr>\n",
       "      <th>0</th>\n",
       "      <td>2.487</td>\n",
       "      <td>2.762</td>\n",
       "      <td>1</td>\n",
       "    </tr>\n",
       "    <tr>\n",
       "      <th>1</th>\n",
       "      <td>2.970</td>\n",
       "      <td>1.991</td>\n",
       "      <td>1</td>\n",
       "    </tr>\n",
       "    <tr>\n",
       "      <th>2</th>\n",
       "      <td>3.589</td>\n",
       "      <td>2.624</td>\n",
       "      <td>1</td>\n",
       "    </tr>\n",
       "    <tr>\n",
       "      <th>3</th>\n",
       "      <td>4.140</td>\n",
       "      <td>2.679</td>\n",
       "      <td>1</td>\n",
       "    </tr>\n",
       "    <tr>\n",
       "      <th>4</th>\n",
       "      <td>3.105</td>\n",
       "      <td>2.789</td>\n",
       "      <td>1</td>\n",
       "    </tr>\n",
       "    <tr>\n",
       "      <th>...</th>\n",
       "      <td>...</td>\n",
       "      <td>...</td>\n",
       "      <td>...</td>\n",
       "    </tr>\n",
       "    <tr>\n",
       "      <th>244</th>\n",
       "      <td>5.000</td>\n",
       "      <td>15.652</td>\n",
       "      <td>1</td>\n",
       "    </tr>\n",
       "    <tr>\n",
       "      <th>245</th>\n",
       "      <td>3.804</td>\n",
       "      <td>14.193</td>\n",
       "      <td>1</td>\n",
       "    </tr>\n",
       "    <tr>\n",
       "      <th>246</th>\n",
       "      <td>2.970</td>\n",
       "      <td>16.066</td>\n",
       "      <td>1</td>\n",
       "    </tr>\n",
       "    <tr>\n",
       "      <th>247</th>\n",
       "      <td>4.677</td>\n",
       "      <td>16.203</td>\n",
       "      <td>1</td>\n",
       "    </tr>\n",
       "    <tr>\n",
       "      <th>248</th>\n",
       "      <td>2.097</td>\n",
       "      <td>13.835</td>\n",
       "      <td>1</td>\n",
       "    </tr>\n",
       "  </tbody>\n",
       "</table>\n",
       "<p>249 rows × 3 columns</p>\n",
       "</div>"
      ],
      "text/plain": [
       "         x       y  class\n",
       "0    2.487   2.762      1\n",
       "1    2.970   1.991      1\n",
       "2    3.589   2.624      1\n",
       "3    4.140   2.679      1\n",
       "4    3.105   2.789      1\n",
       "..     ...     ...    ...\n",
       "244  5.000  15.652      1\n",
       "245  3.804  14.193      1\n",
       "246  2.970  16.066      1\n",
       "247  4.677  16.203      1\n",
       "248  2.097  13.835      1\n",
       "\n",
       "[249 rows x 3 columns]"
      ]
     },
     "execution_count": 53,
     "metadata": {},
     "output_type": "execute_result"
    }
   ],
   "source": [
    "df"
   ]
  },
  {
   "cell_type": "markdown",
   "metadata": {},
   "source": [
    "### Z-score (Univariate)"
   ]
  },
  {
   "cell_type": "code",
   "execution_count": 69,
   "metadata": {},
   "outputs": [
    {
     "name": "stdout",
     "output_type": "stream",
     "text": [
      "Mean:  10.292618473895583\n",
      "Std:  4.935583032835348\n",
      "Upper Limit : 25.099367572401626\n",
      "Lower Limit: -4.514130624610461\n",
      "Min:  0.47\n",
      "Max:  18.091\n"
     ]
    }
   ],
   "source": [
    "upper_limit = df['x'].mean() + 3 * df['x'].std()\n",
    "lower_limit = df['x'].mean() - 3 * df['x'].std()\n",
    "\n",
    "print('Mean: ', df['x'].mean())\n",
    "print('Std: ', df['x'].std())\n",
    "print(f'Upper Limit : {upper_limit}\\nLower Limit: {lower_limit}')\n",
    "print('Min: ', df['x'].min())\n",
    "print('Max: ', df['x'].max())"
   ]
  },
  {
   "cell_type": "code",
   "execution_count": 102,
   "metadata": {},
   "outputs": [
    {
     "name": "stdout",
     "output_type": "stream",
     "text": [
      "Mean:  -0.010543493664500563\n",
      "Std:  0.9858391476601528\n",
      "Upper Limit : 2.4540543754858812\n",
      "Lower Limit: -2.4751413628148824\n",
      "Min:  -2.961620756036301\n",
      "Max:  2.9010177509049355\n"
     ]
    }
   ],
   "source": [
    "import numpy as np\n",
    "import seaborn as sns\n",
    "import matplotlib.pyplot as plt\n",
    "\n",
    "# Parameters for the normal distribution\n",
    "mean = 0     # Mean of the distribution\n",
    "std_dev = 1  # Standard deviation of the distribution\n",
    "num_samples = 1000  # Number of data points\n",
    "\n",
    "# Generate the normally distributed dataset\n",
    "data = np.random.normal(loc=mean, scale=std_dev, size=num_samples)\n",
    "\n",
    "upper_limit = data.mean() + 2.5 * data.std()\n",
    "lower_limit = data.mean() - 2.5 * data.std()\n",
    "\n",
    "print('Mean: ', data.mean())\n",
    "print('Std: ', data.std())\n",
    "print(f'Upper Limit : {upper_limit}\\nLower Limit: {lower_limit}')\n",
    "print('Min: ', data.min())\n",
    "print('Max: ', data.max())\n",
    "\n",
    "# Plot a histogram of the generated data\n",
    "# plt.hist(data, bins=30, edgecolor='black', alpha=0.7)\n",
    "# plt.title('Histogram of Normally Distributed Data')\n",
    "# plt.xlabel('Value')\n",
    "# plt.ylabel('Frequency')\n",
    "# plt.show()\n"
   ]
  },
  {
   "cell_type": "code",
   "execution_count": 103,
   "metadata": {},
   "outputs": [],
   "source": [
    "x = pd.DataFrame(data)"
   ]
  },
  {
   "cell_type": "code",
   "execution_count": 104,
   "metadata": {},
   "outputs": [
    {
     "data": {
      "text/html": [
       "<div>\n",
       "<style scoped>\n",
       "    .dataframe tbody tr th:only-of-type {\n",
       "        vertical-align: middle;\n",
       "    }\n",
       "\n",
       "    .dataframe tbody tr th {\n",
       "        vertical-align: top;\n",
       "    }\n",
       "\n",
       "    .dataframe thead th {\n",
       "        text-align: right;\n",
       "    }\n",
       "</style>\n",
       "<table border=\"1\" class=\"dataframe\">\n",
       "  <thead>\n",
       "    <tr style=\"text-align: right;\">\n",
       "      <th></th>\n",
       "      <th>0</th>\n",
       "    </tr>\n",
       "  </thead>\n",
       "  <tbody>\n",
       "    <tr>\n",
       "      <th>0</th>\n",
       "      <td>-0.339325</td>\n",
       "    </tr>\n",
       "    <tr>\n",
       "      <th>1</th>\n",
       "      <td>1.559110</td>\n",
       "    </tr>\n",
       "    <tr>\n",
       "      <th>2</th>\n",
       "      <td>-0.921561</td>\n",
       "    </tr>\n",
       "    <tr>\n",
       "      <th>3</th>\n",
       "      <td>0.834424</td>\n",
       "    </tr>\n",
       "    <tr>\n",
       "      <th>4</th>\n",
       "      <td>-0.294325</td>\n",
       "    </tr>\n",
       "    <tr>\n",
       "      <th>...</th>\n",
       "      <td>...</td>\n",
       "    </tr>\n",
       "    <tr>\n",
       "      <th>995</th>\n",
       "      <td>-2.278167</td>\n",
       "    </tr>\n",
       "    <tr>\n",
       "      <th>996</th>\n",
       "      <td>-1.072207</td>\n",
       "    </tr>\n",
       "    <tr>\n",
       "      <th>997</th>\n",
       "      <td>-0.944829</td>\n",
       "    </tr>\n",
       "    <tr>\n",
       "      <th>998</th>\n",
       "      <td>-0.098572</td>\n",
       "    </tr>\n",
       "    <tr>\n",
       "      <th>999</th>\n",
       "      <td>-0.584155</td>\n",
       "    </tr>\n",
       "  </tbody>\n",
       "</table>\n",
       "<p>988 rows × 1 columns</p>\n",
       "</div>"
      ],
      "text/plain": [
       "            0\n",
       "0   -0.339325\n",
       "1    1.559110\n",
       "2   -0.921561\n",
       "3    0.834424\n",
       "4   -0.294325\n",
       "..        ...\n",
       "995 -2.278167\n",
       "996 -1.072207\n",
       "997 -0.944829\n",
       "998 -0.098572\n",
       "999 -0.584155\n",
       "\n",
       "[988 rows x 1 columns]"
      ]
     },
     "execution_count": 104,
     "metadata": {},
     "output_type": "execute_result"
    }
   ],
   "source": [
    "x[(x[0] >= lower_limit) & (x[0] <= upper_limit)]"
   ]
  },
  {
   "cell_type": "code",
   "execution_count": 77,
   "metadata": {},
   "outputs": [
    {
     "data": {
      "text/plain": [
       "<Axes: >"
      ]
     },
     "execution_count": 77,
     "metadata": {},
     "output_type": "execute_result"
    },
    {
     "data": {
      "image/png": "[encoded data removed]",
      "text/plain": [
       "<Figure size 640x480 with 1 Axes>"
      ]
     },
     "metadata": {},
     "output_type": "display_data"
    }
   ],
   "source": [
    "sns.boxplot(x = data)"
   ]
  },
  {
   "cell_type": "markdown",
   "metadata": {},
   "source": [
    "### IQR Technique (Univariate)"
   ]
  },
  {
   "cell_type": "code",
   "execution_count": 111,
   "metadata": {},
   "outputs": [],
   "source": [
    "q1 = df['x'].quantile(0.25)\n",
    "q3 = df['x'].quantile(0.75)\n",
    "\n",
    "iqr = q3 - q1\n",
    "max_val = q3 + 1.5 * iqr\n",
    "min_val = q1 - 1.5 * iqr"
   ]
  },
  {
   "cell_type": "code",
   "execution_count": 112,
   "metadata": {},
   "outputs": [
    {
     "name": "stdout",
     "output_type": "stream",
     "text": [
      "actual max: 18.091\n",
      "actual min: 0.47\n",
      "box plot max value: 28.273000000000003\n",
      "box plot min value: -7.695000000000001\n"
     ]
    }
   ],
   "source": [
    "print(f'actual max: {df[\"x\"].max()}')\n",
    "print(f'actual min: {df[\"x\"].min()}')\n",
    "print(f'box plot max value: {max_val}')\n",
    "print(f'box plot min value: {min_val}')"
   ]
  },
  {
   "cell_type": "code",
   "execution_count": 120,
   "metadata": {},
   "outputs": [
    {
     "name": "stdout",
     "output_type": "stream",
     "text": [
      "[0.66379783 3.44340529 1.1571642  1.78112343 0.81321711 1.52286801\n",
      " 1.3326842  1.19212318 0.75911315 0.84478252]\n"
     ]
    },
    {
     "data": {
      "image/png": "[encoded data removed]",
      "text/plain": [
       "<Figure size 500x500 with 1 Axes>"
      ]
     },
     "metadata": {},
     "output_type": "display_data"
    }
   ],
   "source": [
    "import numpy as np\n",
    "import matplotlib.pyplot as plt\n",
    "\n",
    "# Parameters for the log-normal distribution\n",
    "mean = 0     # Mean of the underlying normal distribution\n",
    "sigma = 0.5  # Standard deviation of the underlying normal distribution\n",
    "num_samples = 1000  # Number of data points\n",
    "\n",
    "# Generate the slightly right-skewed dataset\n",
    "data = np.random.lognormal(mean=mean, sigma=sigma, size=num_samples)\n",
    "\n",
    "# Print the first few data points\n",
    "print(data[:10])\n",
    "\n",
    "# Plot a histogram of the generated data\n",
    "sns.displot(-data, bins=30)\n",
    "plt.title('Histogram of Slightly Right-Skewed Data')\n",
    "plt.xlabel('Value')\n",
    "plt.ylabel('Frequency')\n",
    "plt.show()\n"
   ]
  }
 ],
 "metadata": {
  "kernelspec": {
   "display_name": "venv",
   "language": "python",
   "name": "python3"
  },
  "language_info": {
   "codemirror_mode": {
    "name": "ipython",
    "version": 3
   },
   "file_extension": ".py",
   "mimetype": "text/x-python",
   "name": "python",
   "nbconvert_exporter": "python",
   "pygments_lexer": "ipython3",
   "version": "3.9.2"
  }
 },
 "nbformat": 4,
 "nbformat_minor": 2
}
